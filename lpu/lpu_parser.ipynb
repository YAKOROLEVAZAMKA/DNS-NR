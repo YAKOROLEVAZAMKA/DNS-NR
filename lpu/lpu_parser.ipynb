{
 "cells": [
  {
   "cell_type": "code",
   "execution_count": 1,
   "id": "bd7eaa08-d8f3-4920-8bfa-fed8f26b1628",
   "metadata": {},
   "outputs": [],
   "source": [
    "import requests\n",
    "import pandas as pd"
   ]
  },
  {
   "cell_type": "code",
   "execution_count": null,
   "id": "fe8f4e36-677f-4cc3-ba5e-4864a02a0861",
   "metadata": {},
   "outputs": [],
   "source": [
    "# https://docs.apidq.io/swagger/#/address/addressClean"
   ]
  },
  {
   "cell_type": "markdown",
   "id": "1e484c9f-081e-4229-a239-462ddbd3de51",
   "metadata": {},
   "source": [
    "#### read excel"
   ]
  },
  {
   "cell_type": "code",
   "execution_count": 2,
   "id": "c96d0b75-ab8c-4b63-adb8-43891670fc45",
   "metadata": {},
   "outputs": [],
   "source": [
    "rename_dict = {\n",
    "    'Город': 'city',\n",
    "    'Населенный пункт': 'city',\n",
    "    #\n",
    "    'Адреса': 'address',\n",
    "    'Адрес': 'address',\n",
    "    #\n",
    "    'Название': 'name'\n",
    "}"
   ]
  },
  {
   "cell_type": "code",
   "execution_count": 3,
   "id": "5b3c1a01-f65e-43c9-9dfb-f4b31a0e6a25",
   "metadata": {},
   "outputs": [],
   "source": [
    "#file = 'ЛПУ по городам 20.09.2022 (2) (1) (1).xlsx'\n",
    "file = 'Лаборатории_по_городам_от_03_09_22_1.xlsx'\n",
    "\n",
    "df = pd.read_excel(file)\n",
    "df.rename(columns=rename_dict, inplace=True)"
   ]
  },
  {
   "cell_type": "code",
   "execution_count": 4,
   "id": "4a676ca4-5955-4be7-9cb1-f6efe2282696",
   "metadata": {},
   "outputs": [
    {
     "data": {
      "text/html": [
       "<div>\n",
       "<style scoped>\n",
       "    .dataframe tbody tr th:only-of-type {\n",
       "        vertical-align: middle;\n",
       "    }\n",
       "\n",
       "    .dataframe tbody tr th {\n",
       "        vertical-align: top;\n",
       "    }\n",
       "\n",
       "    .dataframe thead th {\n",
       "        text-align: right;\n",
       "    }\n",
       "</style>\n",
       "<table border=\"1\" class=\"dataframe\">\n",
       "  <thead>\n",
       "    <tr style=\"text-align: right;\">\n",
       "      <th></th>\n",
       "      <th>city</th>\n",
       "      <th>address</th>\n",
       "      <th>Название лаборатории</th>\n",
       "    </tr>\n",
       "  </thead>\n",
       "  <tbody>\n",
       "    <tr>\n",
       "      <th>0</th>\n",
       "      <td>г. Москва</td>\n",
       "      <td>город Москва, Шоссе Энтузиастов, дом 22/18</td>\n",
       "      <td>Инвитро</td>\n",
       "    </tr>\n",
       "    <tr>\n",
       "      <th>1</th>\n",
       "      <td>г. Москва</td>\n",
       "      <td>город Москва, улица Солдатская, дом 10, корп. 2</td>\n",
       "      <td>Инвитро</td>\n",
       "    </tr>\n",
       "    <tr>\n",
       "      <th>2</th>\n",
       "      <td>г. Москва</td>\n",
       "      <td>город Москва, 1-ый Кожуховский пр-д, дом 9</td>\n",
       "      <td>Инвитро</td>\n",
       "    </tr>\n",
       "    <tr>\n",
       "      <th>3</th>\n",
       "      <td>г. Москва</td>\n",
       "      <td>город Москва, улица Профсоюзная, дом 5/9</td>\n",
       "      <td>Инвитро</td>\n",
       "    </tr>\n",
       "    <tr>\n",
       "      <th>4</th>\n",
       "      <td>г. Москва</td>\n",
       "      <td>город Москва, улица Староалексеевская, дом 8</td>\n",
       "      <td>Инвитро</td>\n",
       "    </tr>\n",
       "  </tbody>\n",
       "</table>\n",
       "</div>"
      ],
      "text/plain": [
       "        city                                          address  \\\n",
       "0  г. Москва       город Москва, Шоссе Энтузиастов, дом 22/18   \n",
       "1  г. Москва  город Москва, улица Солдатская, дом 10, корп. 2   \n",
       "2  г. Москва      город Москва, 1-ый Кожуховский пр-д, дом 9    \n",
       "3  г. Москва         город Москва, улица Профсоюзная, дом 5/9   \n",
       "4  г. Москва     город Москва, улица Староалексеевская, дом 8   \n",
       "\n",
       "  Название лаборатории  \n",
       "0              Инвитро  \n",
       "1              Инвитро  \n",
       "2              Инвитро  \n",
       "3              Инвитро  \n",
       "4              Инвитро  "
      ]
     },
     "execution_count": 4,
     "metadata": {},
     "output_type": "execute_result"
    }
   ],
   "source": [
    "df.head()"
   ]
  },
  {
   "cell_type": "markdown",
   "id": "4b500724-8fd1-4d77-b707-967dfe29c8ec",
   "metadata": {},
   "source": [
    "#### API"
   ]
  },
  {
   "cell_type": "code",
   "execution_count": 5,
   "id": "9599e3b0-8817-4b1c-a0cc-6eff82ba2579",
   "metadata": {},
   "outputs": [],
   "source": [
    "url = 'https://api.apidq.io/v1/clean/address'"
   ]
  },
  {
   "cell_type": "code",
   "execution_count": 20,
   "id": "4276b91c-5e29-4d5b-b4a0-fbbb07215da2",
   "metadata": {},
   "outputs": [],
   "source": [
    "data = {\n",
    "  \"query\": \"г. Москва\tгород Москва, Шоссе Энтузиастов, дом 22/18\",\n",
    "  \"countryCode\": \"RU\"\n",
    "}"
   ]
  },
  {
   "cell_type": "code",
   "execution_count": 21,
   "id": "4d780783-91c2-40f4-ba5c-ffa86a8a9006",
   "metadata": {},
   "outputs": [],
   "source": [
    "r = requests.post(url, json=data)"
   ]
  },
  {
   "cell_type": "code",
   "execution_count": 22,
   "id": "db3c6b80-4f59-47a7-814c-d004b72c48d6",
   "metadata": {},
   "outputs": [],
   "source": [
    "true = True\n",
    "false = False\n"
   ]
  },
  {
   "cell_type": "code",
   "execution_count": 23,
   "id": "20abffe5-9235-4289-9215-7a0d91df35cc",
   "metadata": {},
   "outputs": [],
   "source": [
    "d = eval(r.text)"
   ]
  },
  {
   "cell_type": "code",
   "execution_count": 24,
   "id": "849ef26c-ea67-4414-81a1-7a2211a04970",
   "metadata": {},
   "outputs": [
    {
     "data": {
      "text/plain": [
       "'г Москва'"
      ]
     },
     "execution_count": 24,
     "metadata": {},
     "output_type": "execute_result"
    }
   ],
   "source": [
    "d['region']['fullName']"
   ]
  },
  {
   "cell_type": "code",
   "execution_count": 25,
   "id": "4c8b3516-b163-41ab-a09e-cad1ffd27aec",
   "metadata": {},
   "outputs": [
    {
     "data": {
      "text/plain": [
       "'г Москва, Энтузиастов ш, дом 22/18'"
      ]
     },
     "execution_count": 25,
     "metadata": {},
     "output_type": "execute_result"
    }
   ],
   "source": [
    "d['addressFull']"
   ]
  },
  {
   "cell_type": "code",
   "execution_count": 26,
   "id": "4cb76724-fe2b-458a-ba4f-a3fe6b34db4f",
   "metadata": {},
   "outputs": [
    {
     "data": {
      "text/plain": [
       "''"
      ]
     },
     "execution_count": 26,
     "metadata": {},
     "output_type": "execute_result"
    }
   ],
   "source": [
    "d['city']['fullName']"
   ]
  },
  {
   "cell_type": "code",
   "execution_count": 27,
   "id": "c206f335-0288-4466-9b9f-767712d23445",
   "metadata": {},
   "outputs": [
    {
     "data": {
      "text/plain": [
       "''"
      ]
     },
     "execution_count": 27,
     "metadata": {},
     "output_type": "execute_result"
    }
   ],
   "source": [
    "d['settlement']['fullName']"
   ]
  },
  {
   "cell_type": "code",
   "execution_count": 28,
   "id": "0080c72a-1b8a-48fb-9bf3-80b6940feb1f",
   "metadata": {},
   "outputs": [
    {
     "data": {
      "text/plain": [
       "{'original': 'г. москва\\tгород москва, шоссе энтузиастов, дом 22/18',\n",
       " 'addressFull': 'г Москва, Энтузиастов ш, дом 22/18',\n",
       " 'address': 'г Москва, Энтузиастов ш',\n",
       " 'postcodeIn': '',\n",
       " 'postcode': '111123',\n",
       " 'region': {'fullName': 'г Москва',\n",
       "  'name': 'Москва',\n",
       "  'type': 'г',\n",
       "  'codes': {'fias': '0c5b2444-70a0-4932-980c-b4dc0d3f02b5',\n",
       "   'ga': 'RU0770000000000000000000000',\n",
       "   'osm': 'R102269',\n",
       "   'gar': '1405113',\n",
       "   'kladr': '7700000000000'}},\n",
       " 'area': {'fullName': '',\n",
       "  'name': '',\n",
       "  'type': '',\n",
       "  'codes': {'fias': '', 'ga': '', 'osm': '', 'gar': '', 'kladr': ''}},\n",
       " 'city': {'fullName': '',\n",
       "  'name': '',\n",
       "  'type': '',\n",
       "  'codes': {'fias': '', 'ga': '', 'osm': '', 'gar': '', 'kladr': ''}},\n",
       " 'cityArea': {'fullName': '',\n",
       "  'name': '',\n",
       "  'type': '',\n",
       "  'codes': {'fias': '', 'ga': '', 'osm': '', 'gar': '', 'kladr': ''}},\n",
       " 'settlement': {'fullName': '',\n",
       "  'name': '',\n",
       "  'type': '',\n",
       "  'codes': {'fias': '', 'ga': '', 'osm': '', 'gar': '', 'kladr': ''}},\n",
       " 'planStructure': {'fullName': '',\n",
       "  'name': '',\n",
       "  'type': '',\n",
       "  'codes': {'fias': '', 'ga': '', 'osm': '', 'gar': '', 'kladr': ''}},\n",
       " 'street': {'fullName': 'Энтузиастов ш',\n",
       "  'name': 'Энтузиастов',\n",
       "  'type': 'ш',\n",
       "  'codes': {'fias': 'b7e41003-6763-42b6-9d58-d61c2ce01144',\n",
       "   'ga': 'RU0770000000000000000000330',\n",
       "   'osm': 'W55496628',\n",
       "   'gar': '1415191',\n",
       "   'kladr': '77000000000033000'}},\n",
       " 'houseDetails': {'fullName': 'дом 22/18',\n",
       "  'floor': '',\n",
       "  'house': '22/18',\n",
       "  'case': '',\n",
       "  'build': '',\n",
       "  'liter': '',\n",
       "  'lend': '',\n",
       "  'block': '',\n",
       "  'pav': '',\n",
       "  'flat': '',\n",
       "  'office': '',\n",
       "  'kab': '',\n",
       "  'abon': '',\n",
       "  'plot': '',\n",
       "  'sek': '',\n",
       "  'entr': '',\n",
       "  'room': '',\n",
       "  'hostel': '',\n",
       "  'munit': '',\n",
       "  'codes': {'fias': '37cbf257-1acb-4493-a7f6-42209f596c33',\n",
       "   'ga': '',\n",
       "   'osm': '',\n",
       "   'gar': '71094783',\n",
       "   'kladr': ''}},\n",
       " 'coordinates': {'latitude': 55.750499, 'longitude': 37.717438},\n",
       " 'country': {'name': 'Россия',\n",
       "  'alpha2': 'RU',\n",
       "  'alpha3': 'RUS',\n",
       "  'numeric': 643},\n",
       " 'valid': True,\n",
       " 'quality': {'unique': 0,\n",
       "  'actuality': 0,\n",
       "  'undefined': 0,\n",
       "  'level': 8,\n",
       "  'house': 3,\n",
       "  'geo': 8}}"
      ]
     },
     "execution_count": 28,
     "metadata": {},
     "output_type": "execute_result"
    }
   ],
   "source": [
    "d"
   ]
  },
  {
   "cell_type": "markdown",
   "id": "42f675eb-ef6e-4b94-b805-9042e6d192c3",
   "metadata": {},
   "source": [
    "#### clean address"
   ]
  },
  {
   "cell_type": "code",
   "execution_count": 29,
   "id": "35dc87d8-056b-4f0d-b5fa-d3f0447b6cc3",
   "metadata": {},
   "outputs": [],
   "source": [
    "true = True\n",
    "false = False\n",
    "\n",
    "df['address_clean'] = ''\n",
    "df['city_clean'] = ''\n",
    "\n",
    "big_cities = [\n",
    "    'Москва',\n",
    "    'Санкт-Петербург',\n",
    "    'Севастополь'\n",
    "]"
   ]
  },
  {
   "cell_type": "code",
   "execution_count": 30,
   "id": "91543cf5-ee00-4c2b-8a69-0b620bae13fb",
   "metadata": {},
   "outputs": [],
   "source": [
    "for i in range(df.shape[0]):\n",
    "    temp_addr = ''\n",
    "    addressFull = ''\n",
    "    bigcity = ''\n",
    "    city = ''\n",
    "    settlement = ''\n",
    "    \n",
    "    if df['city'][i] not in df['address']:\n",
    "        temp_addr = df['city'][i] + ', ' + df['address'][i]\n",
    "    else:\n",
    "        temp_addr = df['address'][i]\n",
    "        \n",
    "    data = {\n",
    "      \"query\": temp_addr,\n",
    "      \"countryCode\": \"RU\"\n",
    "    }\n",
    "    \n",
    "    r = requests.post(url, json=data)\n",
    "    \n",
    "    d = eval(r.text)\n",
    "    \n",
    "    try:\n",
    "        #bigcity = d['region']['fullName']\n",
    "        bigcity = d['region']['name']\n",
    "    except:\n",
    "        bigcity = ''\n",
    "        \n",
    "    try:\n",
    "        addressFull = d['addressFull']\n",
    "    except:\n",
    "        addressFull = 'Не найдено'\n",
    "    \n",
    "    try:\n",
    "        #city = d['city']['fullName']\n",
    "        city = d['city']['name']\n",
    "    except:\n",
    "        addressFull = ''\n",
    "    \n",
    "    try:\n",
    "        #settlement = d['settlement']['fullName']\n",
    "        settlement = d['settlement']['name']\n",
    "    except:\n",
    "        settlement = 'Не найдено'\n",
    "    \n",
    "    df['address_clean'][i] = addressFull\n",
    "    \n",
    "    if bigcity in big_cities:\n",
    "        df['city_clean'][i] = bigcity\n",
    "    elif city:\n",
    "        df['city_clean'][i] = city\n",
    "    else:\n",
    "        df['city_clean'][i] = settlement"
   ]
  },
  {
   "cell_type": "code",
   "execution_count": 31,
   "id": "1e91a49a-51e8-4d00-b610-3bee070038c2",
   "metadata": {},
   "outputs": [],
   "source": [
    "#df.to_excel('test1.xlsx')"
   ]
  },
  {
   "cell_type": "code",
   "execution_count": 32,
   "id": "987b0fa2-e0ab-46ff-bf30-c7d7abf44fb5",
   "metadata": {},
   "outputs": [
    {
     "data": {
      "text/html": [
       "<div>\n",
       "<style scoped>\n",
       "    .dataframe tbody tr th:only-of-type {\n",
       "        vertical-align: middle;\n",
       "    }\n",
       "\n",
       "    .dataframe tbody tr th {\n",
       "        vertical-align: top;\n",
       "    }\n",
       "\n",
       "    .dataframe thead th {\n",
       "        text-align: right;\n",
       "    }\n",
       "</style>\n",
       "<table border=\"1\" class=\"dataframe\">\n",
       "  <thead>\n",
       "    <tr style=\"text-align: right;\">\n",
       "      <th></th>\n",
       "      <th>city</th>\n",
       "      <th>address</th>\n",
       "      <th>Название лаборатории</th>\n",
       "      <th>address_clean</th>\n",
       "      <th>city_clean</th>\n",
       "    </tr>\n",
       "  </thead>\n",
       "  <tbody>\n",
       "    <tr>\n",
       "      <th>0</th>\n",
       "      <td>г. Москва</td>\n",
       "      <td>город Москва, Шоссе Энтузиастов, дом 22/18</td>\n",
       "      <td>Инвитро</td>\n",
       "      <td>г Москва, Энтузиастов ш, дом 22/18</td>\n",
       "      <td>Москва</td>\n",
       "    </tr>\n",
       "    <tr>\n",
       "      <th>1</th>\n",
       "      <td>г. Москва</td>\n",
       "      <td>город Москва, улица Солдатская, дом 10, корп. 2</td>\n",
       "      <td>Инвитро</td>\n",
       "      <td>г Москва, ул Солдатская, дом 10, корпус 2</td>\n",
       "      <td>Москва</td>\n",
       "    </tr>\n",
       "    <tr>\n",
       "      <th>2</th>\n",
       "      <td>г. Москва</td>\n",
       "      <td>город Москва, 1-ый Кожуховский пр-д, дом 9</td>\n",
       "      <td>Инвитро</td>\n",
       "      <td>г Москва, 1-й Кожуховский проезд, дом 9</td>\n",
       "      <td>Москва</td>\n",
       "    </tr>\n",
       "    <tr>\n",
       "      <th>3</th>\n",
       "      <td>г. Москва</td>\n",
       "      <td>город Москва, улица Профсоюзная, дом 5/9</td>\n",
       "      <td>Инвитро</td>\n",
       "      <td>г Москва, ул Профсоюзная, дом 5/9</td>\n",
       "      <td>Москва</td>\n",
       "    </tr>\n",
       "    <tr>\n",
       "      <th>4</th>\n",
       "      <td>г. Москва</td>\n",
       "      <td>город Москва, улица Староалексеевская, дом 8</td>\n",
       "      <td>Инвитро</td>\n",
       "      <td>г Москва, ул Староалексеевская, дом 8</td>\n",
       "      <td>Москва</td>\n",
       "    </tr>\n",
       "    <tr>\n",
       "      <th>...</th>\n",
       "      <td>...</td>\n",
       "      <td>...</td>\n",
       "      <td>...</td>\n",
       "      <td>...</td>\n",
       "      <td>...</td>\n",
       "    </tr>\n",
       "    <tr>\n",
       "      <th>3086</th>\n",
       "      <td>Уссурийск</td>\n",
       "      <td>Чичерина, 83</td>\n",
       "      <td>Юнилаб</td>\n",
       "      <td>Приморский край, г Уссурийск, ул Чичерина, дом 83</td>\n",
       "      <td>Уссурийск</td>\n",
       "    </tr>\n",
       "    <tr>\n",
       "      <th>3087</th>\n",
       "      <td>Уссурийск</td>\n",
       "      <td>Пионерская, 19</td>\n",
       "      <td>Юнилаб</td>\n",
       "      <td>Приморский край, г Уссурийск, ул Пионерская, д...</td>\n",
       "      <td>Уссурийск</td>\n",
       "    </tr>\n",
       "    <tr>\n",
       "      <th>3088</th>\n",
       "      <td>Фокино</td>\n",
       "      <td>Клубная,15а</td>\n",
       "      <td>Юнилаб</td>\n",
       "      <td>Приморский край, г Фокино, ул Клубная, дом 15а</td>\n",
       "      <td>Фокино</td>\n",
       "    </tr>\n",
       "    <tr>\n",
       "      <th>3089</th>\n",
       "      <td>Ю Сахалинск</td>\n",
       "      <td>Чехова, 87</td>\n",
       "      <td>Юнилаб</td>\n",
       "      <td>Сахалинская обл, г Южно-Сахалинск, ул Чехова, ...</td>\n",
       "      <td>Южно-Сахалинск</td>\n",
       "    </tr>\n",
       "    <tr>\n",
       "      <th>3090</th>\n",
       "      <td>Ю Сахалинск</td>\n",
       "      <td>Есенина,50</td>\n",
       "      <td>Юнилаб</td>\n",
       "      <td>Сахалинская обл, г Южно-Сахалинск, ул Есенина,...</td>\n",
       "      <td>Южно-Сахалинск</td>\n",
       "    </tr>\n",
       "  </tbody>\n",
       "</table>\n",
       "<p>3091 rows × 5 columns</p>\n",
       "</div>"
      ],
      "text/plain": [
       "             city                                          address  \\\n",
       "0       г. Москва       город Москва, Шоссе Энтузиастов, дом 22/18   \n",
       "1       г. Москва  город Москва, улица Солдатская, дом 10, корп. 2   \n",
       "2       г. Москва      город Москва, 1-ый Кожуховский пр-д, дом 9    \n",
       "3       г. Москва         город Москва, улица Профсоюзная, дом 5/9   \n",
       "4       г. Москва     город Москва, улица Староалексеевская, дом 8   \n",
       "...           ...                                              ...   \n",
       "3086    Уссурийск                                     Чичерина, 83   \n",
       "3087    Уссурийск                                   Пионерская, 19   \n",
       "3088       Фокино                                      Клубная,15а   \n",
       "3089  Ю Сахалинск                                       Чехова, 87   \n",
       "3090  Ю Сахалинск                                       Есенина,50   \n",
       "\n",
       "     Название лаборатории                                      address_clean  \\\n",
       "0                 Инвитро                 г Москва, Энтузиастов ш, дом 22/18   \n",
       "1                 Инвитро          г Москва, ул Солдатская, дом 10, корпус 2   \n",
       "2                 Инвитро            г Москва, 1-й Кожуховский проезд, дом 9   \n",
       "3                 Инвитро                  г Москва, ул Профсоюзная, дом 5/9   \n",
       "4                 Инвитро              г Москва, ул Староалексеевская, дом 8   \n",
       "...                   ...                                                ...   \n",
       "3086               Юнилаб  Приморский край, г Уссурийск, ул Чичерина, дом 83   \n",
       "3087               Юнилаб  Приморский край, г Уссурийск, ул Пионерская, д...   \n",
       "3088               Юнилаб     Приморский край, г Фокино, ул Клубная, дом 15а   \n",
       "3089               Юнилаб  Сахалинская обл, г Южно-Сахалинск, ул Чехова, ...   \n",
       "3090               Юнилаб  Сахалинская обл, г Южно-Сахалинск, ул Есенина,...   \n",
       "\n",
       "          city_clean  \n",
       "0             Москва  \n",
       "1             Москва  \n",
       "2             Москва  \n",
       "3             Москва  \n",
       "4             Москва  \n",
       "...              ...  \n",
       "3086       Уссурийск  \n",
       "3087       Уссурийск  \n",
       "3088          Фокино  \n",
       "3089  Южно-Сахалинск  \n",
       "3090  Южно-Сахалинск  \n",
       "\n",
       "[3091 rows x 5 columns]"
      ]
     },
     "execution_count": 32,
     "metadata": {},
     "output_type": "execute_result"
    }
   ],
   "source": [
    "df"
   ]
  },
  {
   "cell_type": "code",
   "execution_count": 42,
   "id": "69179a9a-5c0a-418c-821a-54957244236b",
   "metadata": {},
   "outputs": [
    {
     "data": {
      "text/plain": [
       "{'code': 5, 'message': 'Ничего не найдено', 'details': []}"
      ]
     },
     "execution_count": 42,
     "metadata": {},
     "output_type": "execute_result"
    }
   ],
   "source": [
    "d"
   ]
  },
  {
   "cell_type": "code",
   "execution_count": 33,
   "id": "bbd75d5b-ac6b-4f09-b202-fae49b2076a3",
   "metadata": {},
   "outputs": [],
   "source": [
    "df.to_excel('clean_name_' + file, index=False)"
   ]
  },
  {
   "cell_type": "code",
   "execution_count": null,
   "id": "865219cb-076a-4bfa-80a9-0f6b14f53cd0",
   "metadata": {},
   "outputs": [],
   "source": [
    "#21_02"
   ]
  }
 ],
 "metadata": {
  "kernelspec": {
   "display_name": "Python 3 (ipykernel)",
   "language": "python",
   "name": "python3"
  },
  "language_info": {
   "codemirror_mode": {
    "name": "ipython",
    "version": 3
   },
   "file_extension": ".py",
   "mimetype": "text/x-python",
   "name": "python",
   "nbconvert_exporter": "python",
   "pygments_lexer": "ipython3",
   "version": "3.9.7"
  }
 },
 "nbformat": 4,
 "nbformat_minor": 5
}
